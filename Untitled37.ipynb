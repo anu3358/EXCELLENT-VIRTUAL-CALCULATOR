{
  "nbformat": 4,
  "nbformat_minor": 0,
  "metadata": {
    "colab": {
      "provenance": [],
      "authorship_tag": "ABX9TyOL9lkeNyeLj6YOe7/TRLEx",
      "include_colab_link": true
    },
    "kernelspec": {
      "name": "python3",
      "display_name": "Python 3"
    },
    "language_info": {
      "name": "python"
    }
  },
  "cells": [
    {
      "cell_type": "markdown",
      "metadata": {
        "id": "view-in-github",
        "colab_type": "text"
      },
      "source": [
        "<a href=\"https://colab.research.google.com/github/anu3358/EXCELLENT-VIRTUAL-CALCULATOR/blob/main/Untitled37.ipynb\" target=\"_parent\"><img src=\"https://colab.research.google.com/assets/colab-badge.svg\" alt=\"Open In Colab\"/></a>"
      ]
    },
    {
      "cell_type": "code",
      "execution_count": 8,
      "metadata": {
        "colab": {
          "base_uri": "https://localhost:8080/"
        },
        "id": "kDOK0FYX4hRU",
        "outputId": "513bc7be-06df-4350-f994-81de60f962a1"
      },
      "outputs": [
        {
          "output_type": "stream",
          "name": "stdout",
          "text": [
            "✅ 'logo.art' file created successfully!\n"
          ]
        }
      ],
      "source": [
        "ascii_art = r\"\"\"\n",
        " _____________________\n",
        "|  _________________  |\n",
        "| | Pythonista   0. | |  .----------------.  .----------------.  .----------------.  .----------------.\n",
        "| |_________________| | | .--------------. || .--------------. || .--------------. || .--------------. |\n",
        "|  ___ ___ ___   ___  | | |     ______   | || |      __      | || |   _____      | || |     ______   | |\n",
        "| | 7 | 8 | 9 | | + | | | |   .' ___  |  | || |     /  \\     | || |  |_   _|     | || |   .' ___  |  | |\n",
        "| |___|___|___| |___| | | |  / .'   \\_|  | || |    / /\\ \\    | || |    | |       | || |  / .'   \\_|  | |\n",
        "| | 4 | 5 | 6 | | - | | | |  | |         | || |   / ____ \\   | || |    | |   _   | || |  | |         | |\n",
        "| |___|___|___| |___| | | |  \\ `.___.'\\  | || | _/ /    \\ \\_ | || |   _| |__/ |  | || |  \\ `.___.'\\  | |\n",
        "| | 1 | 2 | 3 | | x | | | |   `._____.'  | || ||____|  |____|| || |  |________|  | || |   `._____.'  | |\n",
        "| |___|___|___| |___| | | |              | || |              | || |              | || |              | |\n",
        "| | . | 0 | = | | / | | | '--------------' || '--------------' || '--------------' || '--------------' |\n",
        "| |___|___|___| |___| |  '----------------'  '----------------'  '----------------'  '----------------'\n",
        "|_____________________|\n",
        "\"\"\"\n",
        "\n",
        "# Create the file\n",
        "with open(\"logo.art\", \"w\") as file:\n",
        "    file.write(ascii_art)\n",
        "\n",
        "print(\"✅ 'logo.art' file created successfully!\")\n"
      ]
    },
    {
      "cell_type": "code",
      "source": [
        "# art.py\n",
        "\n",
        "def load_logo():\n",
        "    with open(\"logo.art\", \"r\") as file:\n",
        "        return file.read()\n",
        "\n",
        "logo = load_logo()\n",
        "\n",
        "# Write the code to a file to make it importable\n",
        "with open(\"art.py\", \"w\") as file:\n",
        "    file.write(\"\"\"\n",
        "def load_logo():\n",
        "    with open(\"logo.art\", \"r\") as file:\n",
        "        return file.read()\n",
        "\n",
        "logo = load_logo()\n",
        "\"\"\")"
      ],
      "metadata": {
        "id": "DKbNnQAl6B7w"
      },
      "execution_count": 9,
      "outputs": []
    },
    {
      "cell_type": "code",
      "source": [
        "# calculator.py\n",
        "!pip install matplotlib-venn\n",
        "import art\n",
        "\n",
        "# Operation functions\n",
        "def add(n1, n2):\n",
        "    return n1 + n2\n",
        "\n",
        "def subtract(n1, n2):\n",
        "    return n1 - n2\n",
        "\n",
        "def multiply(n1, n2):\n",
        "    return n1 * n2\n",
        "\n",
        "def divide(n1, n2):\n",
        "    if n2 == 0:\n",
        "        return \"Error: Cannot divide by zero!\"\n",
        "    return n1 / n2\n",
        "\n",
        "# Supported operations\n",
        "operations = {\n",
        "    \"+\": add,\n",
        "    \"-\": subtract,\n",
        "    \"*\": multiply,\n",
        "    \"/\": divide,\n",
        "}\n",
        "\n",
        "# Main calculator function\n",
        "def calculator():\n",
        "    print(art.logo)\n",
        "    num1 = float(input(\"What is the first number?: \"))\n",
        "    should_continue = True\n",
        "\n",
        "    while should_continue:\n",
        "        # Display available operations\n",
        "        for symbol in operations:\n",
        "            print(symbol)\n",
        "\n",
        "        operation_symbol = input(\"Pick an operation: \")\n",
        "\n",
        "        if operation_symbol not in operations:\n",
        "            print(\" Invalid operation. Choose from +, -, *, /\")\n",
        "            continue\n",
        "\n",
        "        num2 = float(input(\"What is the next number?: \"))\n",
        "        result = operations[operation_symbol](num1, num2)\n",
        "\n",
        "        print(f\"\\nResult: {num1} {operation_symbol} {num2} = {result}\")\n",
        "\n",
        "        choice = input(f\" Type 'y' to continue with {result}, or 'n' to start over, or 'q' to quit: \").lower()\n",
        "\n",
        "        if choice == 'y':\n",
        "            if isinstance(result, (int, float)):\n",
        "                num1 = result\n",
        "            else:\n",
        "                print(\"Calculation resulted in error. Restarting...\")\n",
        "                should_continue = False\n",
        "                calculator()\n",
        "        elif choice == 'n':\n",
        "            print(\"\\n\" * 2)\n",
        "            calculator()\n",
        "        elif choice == 'q':\n",
        "            print(\"👋 Goodbye!\")\n",
        "            should_continue = False\n",
        "        else:\n",
        "            print(\"Invalid input. Exiting.\")\n",
        "            should_continue = False\n",
        "\n",
        "# Start the calculator\n",
        "calculator()\n"
      ],
      "metadata": {
        "colab": {
          "base_uri": "https://localhost:8080/"
        },
        "id": "7jSpYmvc6Tpz",
        "outputId": "da6bbe62-df6d-4b93-cfc5-8d6951432018"
      },
      "execution_count": 10,
      "outputs": [
        {
          "output_type": "stream",
          "name": "stdout",
          "text": [
            "Requirement already satisfied: matplotlib-venn in /usr/local/lib/python3.11/dist-packages (1.1.2)\n",
            "Requirement already satisfied: matplotlib in /usr/local/lib/python3.11/dist-packages (from matplotlib-venn) (3.10.0)\n",
            "Requirement already satisfied: numpy in /usr/local/lib/python3.11/dist-packages (from matplotlib-venn) (2.0.2)\n",
            "Requirement already satisfied: scipy in /usr/local/lib/python3.11/dist-packages (from matplotlib-venn) (1.15.3)\n",
            "Requirement already satisfied: contourpy>=1.0.1 in /usr/local/lib/python3.11/dist-packages (from matplotlib->matplotlib-venn) (1.3.2)\n",
            "Requirement already satisfied: cycler>=0.10 in /usr/local/lib/python3.11/dist-packages (from matplotlib->matplotlib-venn) (0.12.1)\n",
            "Requirement already satisfied: fonttools>=4.22.0 in /usr/local/lib/python3.11/dist-packages (from matplotlib->matplotlib-venn) (4.58.4)\n",
            "Requirement already satisfied: kiwisolver>=1.3.1 in /usr/local/lib/python3.11/dist-packages (from matplotlib->matplotlib-venn) (1.4.8)\n",
            "Requirement already satisfied: packaging>=20.0 in /usr/local/lib/python3.11/dist-packages (from matplotlib->matplotlib-venn) (24.2)\n",
            "Requirement already satisfied: pillow>=8 in /usr/local/lib/python3.11/dist-packages (from matplotlib->matplotlib-venn) (11.2.1)\n",
            "Requirement already satisfied: pyparsing>=2.3.1 in /usr/local/lib/python3.11/dist-packages (from matplotlib->matplotlib-venn) (3.2.3)\n",
            "Requirement already satisfied: python-dateutil>=2.7 in /usr/local/lib/python3.11/dist-packages (from matplotlib->matplotlib-venn) (2.9.0.post0)\n",
            "Requirement already satisfied: six>=1.5 in /usr/local/lib/python3.11/dist-packages (from python-dateutil>=2.7->matplotlib->matplotlib-venn) (1.17.0)\n",
            "\n",
            " _____________________\n",
            "|  _________________  |\n",
            "| | Pythonista   0. | |  .----------------.  .----------------.  .----------------.  .----------------. \n",
            "| |_________________| | | .--------------. || .--------------. || .--------------. || .--------------. |\n",
            "|  ___ ___ ___   ___  | | |     ______   | || |      __      | || |   _____      | || |     ______   | |\n",
            "| | 7 | 8 | 9 | | + | | | |   .' ___  |  | || |     /  \\     | || |  |_   _|     | || |   .' ___  |  | |\n",
            "| |___|___|___| |___| | | |  / .'   \\_|  | || |    / /\\ \\    | || |    | |       | || |  / .'   \\_|  | |\n",
            "| | 4 | 5 | 6 | | - | | | |  | |         | || |   / ____ \\   | || |    | |   _   | || |  | |         | |\n",
            "| |___|___|___| |___| | | |  \\ `.___.'\\  | || | _/ /    \\ \\_ | || |   _| |__/ |  | || |  \\ `.___.'\\  | |\n",
            "| | 1 | 2 | 3 | | x | | | |   `._____.'  | || ||____|  |____|| || |  |________|  | || |   `._____.'  | |\n",
            "| |___|___|___| |___| | | |              | || |              | || |              | || |              | |\n",
            "| | . | 0 | = | | / | | | '--------------' || '--------------' || '--------------' || '--------------' |\n",
            "| |___|___|___| |___| |  '----------------'  '----------------'  '----------------'  '----------------' \n",
            "|_____________________|\n",
            "\n",
            "What is the first number?: 30\n",
            "+\n",
            "-\n",
            "*\n",
            "/\n",
            "Pick an operation: *\n",
            "What is the next number?: 21\n",
            "\n",
            "Result: 30.0 * 21.0 = 630.0\n",
            " Type 'y' to continue with 630.0, or 'n' to start over, or 'q' to quit: y\n",
            "+\n",
            "-\n",
            "*\n",
            "/\n",
            "Pick an operation: +\n",
            "What is the next number?: 64\n",
            "\n",
            "Result: 630.0 + 64.0 = 694.0\n",
            " Type 'y' to continue with 694.0, or 'n' to start over, or 'q' to quit: y\n",
            "+\n",
            "-\n",
            "*\n",
            "/\n",
            "Pick an operation: -\n",
            "What is the next number?: 75\n",
            "\n",
            "Result: 694.0 - 75.0 = 619.0\n",
            " Type 'y' to continue with 619.0, or 'n' to start over, or 'q' to quit: q\n",
            "👋 Goodbye!\n"
          ]
        }
      ]
    }
  ]
}